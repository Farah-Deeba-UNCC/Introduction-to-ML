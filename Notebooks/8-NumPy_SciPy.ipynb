{
  "cells": [
    {
      "cell_type": "markdown",
      "metadata": {
        "id": "DBkNeT19D_-T"
      },
      "source": [
        "# Introduction to Numpy and Scipy\n",
        "\n",
        "<hr />"
      ]
    },
    {
      "cell_type": "markdown",
      "source": [
        "#scikit-learn\n",
        "scikit-learn is an open source project.It contains a number of state-of-the-art machine learning algorithms and comprhensive documentation (https://scikit-learn.org/stable/tutorial/index.html).It is a popular library for machine learning, including deep learning. scikit-learn depends on two other Python packages: NumPy and SciPy. Also, you will need matoltlib library for plotting.  "
      ],
      "metadata": {
        "id": "hYfYrn29FoY9"
      }
    },
    {
      "cell_type": "markdown",
      "metadata": {
        "id": "EHsv0gXlD_-Y"
      },
      "source": [
        "<hr/>\n",
        "\n",
        "In this lesson, you will learn about [Numpy](http://www.numpy.org), arguably *the* most important package for scientific computing, and Scipy, a package containing lots of goodies for scientific computing, like special functions and numerical integrators.  "
      ]
    },
    {
      "cell_type": "code",
      "execution_count": 1,
      "metadata": {
        "id": "wHq0C1lfD_-X"
      },
      "outputs": [],
      "source": [
        "import numpy as np"
      ]
    },
    {
      "cell_type": "markdown",
      "metadata": {
        "id": "2tiUfrmuD_-Z"
      },
      "source": [
        "## A very brief introduction to Numpy arrays\n",
        "\n",
        "Numpy package contains functionality for multidimensional arrays, high-level mathematical functions such as linear algebra operations and the Fourier transform, and pseudorandom number generators.\n",
        "\n",
        "The central object for Numpy and Scipy is the `ndarray`, commonly referred to as a \"Numpy array.\"  This is an array object that is convenient for scientific computing.  We will go over it in depth in the next lesson, but for now, let's just create some Numpy arrays and see how operators work on them.\n",
        "\n",
        "Just like with type conversions with lists, tuples, and other data types we've looked at, we can convert a list to a Numpy array using\n",
        "\n",
        "    np.array()\n",
        "    \n",
        "Note that above we imported the Numpy package \"`as np`\". This is for convenience; it allow us to use `np` as a prefix instead of `numpy`. Numpy is in **very** widespread use, and the convention is to use the `np` abbreviation."
      ]
    },
    {
      "cell_type": "code",
      "execution_count": 2,
      "metadata": {
        "id": "3RcBW4rnD_-a",
        "outputId": "fada1f80-b0d6-4832-c5d0-80714351ddf3",
        "colab": {
          "base_uri": "https://localhost:8080/"
        }
      },
      "outputs": [
        {
          "output_type": "execute_result",
          "data": {
            "text/plain": [
              "array([1, 2, 3, 4])"
            ]
          },
          "metadata": {},
          "execution_count": 2
        }
      ],
      "source": [
        "# Create a Numpy array from a list\n",
        "my_ar = np.array([1, 2, 3, 4])\n",
        "\n",
        "# Look at it\n",
        "my_ar"
      ]
    },
    {
      "cell_type": "markdown",
      "metadata": {
        "id": "fV0rZmlUD_-c"
      },
      "source": [
        "We see that the list has been converted, and it is explicitly shown as an array. It has several attributes and lots of methods. The most important attributes are probably the data type of its elements and the shape of the array."
      ]
    },
    {
      "cell_type": "code",
      "execution_count": 3,
      "metadata": {
        "id": "ugiti2qHD_-c",
        "outputId": "927b34ff-83ea-401f-a12c-98bedc15e07e",
        "colab": {
          "base_uri": "https://localhost:8080/"
        }
      },
      "outputs": [
        {
          "output_type": "execute_result",
          "data": {
            "text/plain": [
              "dtype('int64')"
            ]
          },
          "metadata": {},
          "execution_count": 3
        }
      ],
      "source": [
        "# The data type of stored entries\n",
        "my_ar.dtype"
      ]
    },
    {
      "cell_type": "code",
      "execution_count": 4,
      "metadata": {
        "id": "ZGpyePotD_-d",
        "outputId": "101410eb-583b-41d5-e847-60d3d7626899",
        "colab": {
          "base_uri": "https://localhost:8080/"
        }
      },
      "outputs": [
        {
          "output_type": "execute_result",
          "data": {
            "text/plain": [
              "(4,)"
            ]
          },
          "metadata": {},
          "execution_count": 4
        }
      ],
      "source": [
        "# The shape of the array\n",
        "my_ar.shape"
      ]
    },
    {
      "cell_type": "markdown",
      "metadata": {
        "id": "dAwsUaKwD_-e"
      },
      "source": [
        "There are also lots of methods. The one I use most often is `astype()`, which converts the data type of the array."
      ]
    },
    {
      "cell_type": "code",
      "execution_count": 5,
      "metadata": {
        "id": "JjY9C_h4D_-e",
        "outputId": "5098eb10-f24b-495d-bb58-4f6ac54ae84f",
        "colab": {
          "base_uri": "https://localhost:8080/"
        }
      },
      "outputs": [
        {
          "output_type": "execute_result",
          "data": {
            "text/plain": [
              "array([1., 2., 3., 4.])"
            ]
          },
          "metadata": {},
          "execution_count": 5
        }
      ],
      "source": [
        "my_ar.astype(float)"
      ]
    },
    {
      "cell_type": "markdown",
      "metadata": {
        "id": "1ZIor6VfD_-e"
      },
      "source": [
        "There are many others. For example, we can compute summary statistics about the entries in the array."
      ]
    },
    {
      "cell_type": "code",
      "execution_count": 6,
      "metadata": {
        "id": "hS-Msl2bD_-e",
        "outputId": "73b9cccd-cb86-4ccb-a8c6-46a6e193bae1",
        "colab": {
          "base_uri": "https://localhost:8080/"
        }
      },
      "outputs": [
        {
          "output_type": "stream",
          "name": "stdout",
          "text": [
            "4\n",
            "1\n",
            "10\n",
            "2.5\n",
            "1.118033988749895\n"
          ]
        }
      ],
      "source": [
        "print(my_ar.max())\n",
        "print(my_ar.min())\n",
        "print(my_ar.sum())\n",
        "print(my_ar.mean())\n",
        "print(my_ar.std())"
      ]
    },
    {
      "cell_type": "markdown",
      "metadata": {
        "id": "a84GwBLWD_-f"
      },
      "source": [
        "Importantly, Numpy arrays can be arguments to Numpy functions. In this case, these functions do the same operations as the methods we just looked at."
      ]
    },
    {
      "cell_type": "code",
      "execution_count": 7,
      "metadata": {
        "id": "C6_iPxykD_-f",
        "outputId": "e7876907-f4ec-492a-946e-ceb74a6357c1",
        "colab": {
          "base_uri": "https://localhost:8080/"
        }
      },
      "outputs": [
        {
          "output_type": "stream",
          "name": "stdout",
          "text": [
            "4\n",
            "1\n",
            "10\n",
            "2.5\n",
            "1.118033988749895\n"
          ]
        }
      ],
      "source": [
        "print(np.max(my_ar))\n",
        "print(np.min(my_ar))\n",
        "print(np.sum(my_ar))\n",
        "print(np.mean(my_ar))\n",
        "print(np.std(my_ar))"
      ]
    },
    {
      "cell_type": "markdown",
      "metadata": {
        "id": "BursobmxD_-g"
      },
      "source": [
        "## Other ways to make Numpy arrays\n",
        "\n",
        "There are many other ways to make Numpy arrays besides just converting lists or tuples. Below are some examples."
      ]
    },
    {
      "cell_type": "code",
      "execution_count": 8,
      "metadata": {
        "id": "3Z3iy2IhD_-g",
        "outputId": "8a01cc3f-d81f-4a31-f7a2-72a4961989ec",
        "colab": {
          "base_uri": "https://localhost:8080/"
        }
      },
      "outputs": [
        {
          "output_type": "execute_result",
          "data": {
            "text/plain": [
              "array([0., 0., 0., 0., 0., 0., 0., 0., 0., 0.])"
            ]
          },
          "metadata": {},
          "execution_count": 8
        }
      ],
      "source": [
        "# How long our arrays will be\n",
        "n = 10\n",
        "\n",
        "# Make a Numpy array of length n filled with zeros\n",
        "np.zeros(n)"
      ]
    },
    {
      "cell_type": "code",
      "execution_count": 9,
      "metadata": {
        "id": "yRuktkY1D_-g",
        "outputId": "de558816-c1c9-49d2-9529-25d97976b3fc",
        "colab": {
          "base_uri": "https://localhost:8080/"
        }
      },
      "outputs": [
        {
          "output_type": "execute_result",
          "data": {
            "text/plain": [
              "array([1., 1., 1., 1., 1., 1., 1., 1., 1., 1.])"
            ]
          },
          "metadata": {},
          "execution_count": 9
        }
      ],
      "source": [
        "# Make a Numpy array of length n filled with ones\n",
        "np.ones(n)"
      ]
    },
    {
      "cell_type": "code",
      "execution_count": 10,
      "metadata": {
        "id": "x3wfe1XsD_-h",
        "outputId": "0f6313f1-1712-4a45-872e-6b0dd230deae",
        "colab": {
          "base_uri": "https://localhost:8080/"
        }
      },
      "outputs": [
        {
          "output_type": "execute_result",
          "data": {
            "text/plain": [
              "array([1., 1., 1., 1., 1., 1., 1., 1., 1., 1.])"
            ]
          },
          "metadata": {},
          "execution_count": 10
        }
      ],
      "source": [
        "# Make an empty Numpy array of length n without initializing entries\n",
        "# (while it initially holds whatever values were previously in the memory\n",
        "# locations assigned, ones will be displayed)\n",
        "np.empty(n)"
      ]
    },
    {
      "cell_type": "code",
      "execution_count": 11,
      "metadata": {
        "id": "unxBDRJSD_-h",
        "outputId": "c35a8210-93bd-4f07-9c7b-216c674586bf",
        "colab": {
          "base_uri": "https://localhost:8080/"
        }
      },
      "outputs": [
        {
          "output_type": "execute_result",
          "data": {
            "text/plain": [
              "array([[0, 0],\n",
              "       [0, 0]])"
            ]
          },
          "metadata": {},
          "execution_count": 11
        }
      ],
      "source": [
        "# Make a Numpy array filled with zeros the same shape as another Numpy array\n",
        "my_ar = np.array([[1, 2], [3, 4]])\n",
        "np.zeros_like(my_ar)"
      ]
    },
    {
      "cell_type": "markdown",
      "metadata": {
        "id": "T0prQ4VLD_-i"
      },
      "source": [
        " You can make an array full of random numbers and use this array in our examples going further."
      ]
    },
    {
      "cell_type": "code",
      "execution_count": 12,
      "metadata": {
        "id": "IjjyHeZgD_-i",
        "outputId": "da80c505-7729-4c8f-ae25-b0839c9a8d61",
        "colab": {
          "base_uri": "https://localhost:8080/"
        }
      },
      "outputs": [
        {
          "output_type": "execute_result",
          "data": {
            "text/plain": [
              "array([0.72363619, 0.80625687, 0.75507222, 0.47529264, 0.21808614,\n",
              "       0.10797734, 0.8419304 , 0.26319505, 0.56976174, 0.51605265,\n",
              "       0.36873593, 0.06029085, 0.26310492, 0.01178828, 0.89250854,\n",
              "       0.84298439, 0.8336817 , 0.1566005 , 0.21741298, 0.39289867,\n",
              "       0.8466088 , 0.74271579, 0.06722195, 0.98538097])"
            ]
          },
          "metadata": {},
          "execution_count": 12
        }
      ],
      "source": [
        "# Make an array of random numbers between zero and one\n",
        "np.random.seed(3252)\n",
        "rand_array = np.random.random(24)\n",
        "\n",
        "rand_array"
      ]
    },
    {
      "cell_type": "markdown",
      "metadata": {
        "id": "3qy_BmeND_-i"
      },
      "source": [
        "## Slicing Numpy arrays\n",
        "\n",
        "We can slice Numpy arrays like lists and tuples. Here are a few examples."
      ]
    },
    {
      "cell_type": "code",
      "execution_count": 13,
      "metadata": {
        "id": "9mh76kxsD_-i",
        "outputId": "390266d0-d269-4f64-b10f-b71d270ef243",
        "colab": {
          "base_uri": "https://localhost:8080/"
        }
      },
      "outputs": [
        {
          "output_type": "execute_result",
          "data": {
            "text/plain": [
              "array([0.98538097, 0.06722195, 0.74271579, 0.8466088 , 0.39289867,\n",
              "       0.21741298, 0.1566005 , 0.8336817 , 0.84298439, 0.89250854,\n",
              "       0.01178828, 0.26310492, 0.06029085, 0.36873593, 0.51605265,\n",
              "       0.56976174, 0.26319505, 0.8419304 , 0.10797734, 0.21808614,\n",
              "       0.47529264, 0.75507222, 0.80625687, 0.72363619])"
            ]
          },
          "metadata": {},
          "execution_count": 13
        }
      ],
      "source": [
        "# Reversed array\n",
        "rand_array[::-1]"
      ]
    },
    {
      "cell_type": "code",
      "execution_count": 14,
      "metadata": {
        "id": "2v2WgT3RD_-i",
        "outputId": "36627a61-2fd3-4333-a54a-8d9211319c50",
        "colab": {
          "base_uri": "https://localhost:8080/"
        }
      },
      "outputs": [
        {
          "output_type": "execute_result",
          "data": {
            "text/plain": [
              "array([0.47529264, 0.56976174, 0.01178828, 0.21741298, 0.98538097])"
            ]
          },
          "metadata": {},
          "execution_count": 14
        }
      ],
      "source": [
        "# Every 5th element, starting at index 3\n",
        "rand_array[3::5]"
      ]
    },
    {
      "cell_type": "code",
      "execution_count": 15,
      "metadata": {
        "id": "kLICgdeWD_-j",
        "outputId": "b10a5060-043f-42cc-bfcd-2f24a2488305",
        "colab": {
          "base_uri": "https://localhost:8080/"
        }
      },
      "outputs": [
        {
          "output_type": "execute_result",
          "data": {
            "text/plain": [
              "array([0.36873593, 0.06029085, 0.26310492, 0.01178828, 0.89250854,\n",
              "       0.84298439, 0.8336817 , 0.1566005 , 0.21741298, 0.39289867,\n",
              "       0.8466088 ])"
            ]
          },
          "metadata": {},
          "execution_count": 15
        }
      ],
      "source": [
        "# Entries 10 to 20\n",
        "rand_array[10:21]"
      ]
    },
    {
      "cell_type": "markdown",
      "metadata": {
        "id": "nTOqwpReD_-j"
      },
      "source": [
        "### Fancy indexing\n",
        "\n",
        "Numpy arrays also allow **fancy indexing**, where we can slice out specific values. For example, say we wanted indices 1, 19, and 6 (in that order) from `rand_array`. We just index with a list of the indices we want."
      ]
    },
    {
      "cell_type": "code",
      "execution_count": 16,
      "metadata": {
        "id": "T5731bYCD_-j",
        "outputId": "3fb9c7c2-2a5f-494a-9415-3738698ee85b",
        "colab": {
          "base_uri": "https://localhost:8080/"
        }
      },
      "outputs": [
        {
          "output_type": "execute_result",
          "data": {
            "text/plain": [
              "array([0.80625687, 0.39289867, 0.8419304 ])"
            ]
          },
          "metadata": {},
          "execution_count": 16
        }
      ],
      "source": [
        "rand_array[[1, 19, 6]]"
      ]
    },
    {
      "cell_type": "markdown",
      "metadata": {
        "id": "iLN4fvRZD_-j"
      },
      "source": [
        "Instead of a list, we could also use a Numpy array."
      ]
    },
    {
      "cell_type": "code",
      "execution_count": 17,
      "metadata": {
        "id": "DFIKnaPpD_-j",
        "outputId": "6865a4d1-4d2b-47bd-88ec-fed91fc74f99",
        "colab": {
          "base_uri": "https://localhost:8080/"
        }
      },
      "outputs": [
        {
          "output_type": "execute_result",
          "data": {
            "text/plain": [
              "array([0.80625687, 0.39289867, 0.8419304 ])"
            ]
          },
          "metadata": {},
          "execution_count": 17
        }
      ],
      "source": [
        "rand_array[np.array([1, 19, 6])]"
      ]
    },
    {
      "cell_type": "markdown",
      "metadata": {
        "id": "uPwE-3CWD_-j"
      },
      "source": [
        "As a very nice feature, we can use **Boolean indexing** with Numpy arrays. Say we only want the random numbers greater than 0.7. We an use the `>` operator to find out which entries in the array are in fact greater than 0.7."
      ]
    },
    {
      "cell_type": "code",
      "execution_count": 18,
      "metadata": {
        "id": "Md-SXiSyD_-k",
        "outputId": "186a7f51-be66-4317-fa2d-a365a813393f",
        "colab": {
          "base_uri": "https://localhost:8080/"
        }
      },
      "outputs": [
        {
          "output_type": "execute_result",
          "data": {
            "text/plain": [
              "array([ True,  True,  True, False, False, False,  True, False, False,\n",
              "       False, False, False, False, False,  True,  True,  True, False,\n",
              "       False, False,  True,  True, False,  True])"
            ]
          },
          "metadata": {},
          "execution_count": 18
        }
      ],
      "source": [
        "rand_array > 0.7"
      ]
    },
    {
      "cell_type": "markdown",
      "metadata": {
        "id": "uzC9uLDwD_-k"
      },
      "source": [
        "This gives a Numpy array of `True`s and `False`s. We can then use this array of Booleans to index which entries in the array we want to keep."
      ]
    },
    {
      "cell_type": "code",
      "execution_count": 19,
      "metadata": {
        "id": "zoHLjT3iD_-k",
        "outputId": "f2a8001b-b461-41e6-e38b-91c2f69e4961",
        "colab": {
          "base_uri": "https://localhost:8080/"
        }
      },
      "outputs": [
        {
          "output_type": "execute_result",
          "data": {
            "text/plain": [
              "array([0.72363619, 0.80625687, 0.75507222, 0.8419304 , 0.89250854,\n",
              "       0.84298439, 0.8336817 , 0.8466088 , 0.74271579, 0.98538097])"
            ]
          },
          "metadata": {},
          "execution_count": 19
        }
      ],
      "source": [
        "# Just slice out the big ones\n",
        "rand_array[rand_array > 0.7]"
      ]
    },
    {
      "cell_type": "markdown",
      "metadata": {
        "id": "4hb5VIpOD_-k"
      },
      "source": [
        "If we want to know the *indices* where the values are high, we can use the `np.where()` function."
      ]
    },
    {
      "cell_type": "code",
      "execution_count": 20,
      "metadata": {
        "id": "_AWjm7zED_-k",
        "outputId": "cbea6dab-54e4-4683-87d0-fb3bb59998ef",
        "colab": {
          "base_uri": "https://localhost:8080/"
        }
      },
      "outputs": [
        {
          "output_type": "execute_result",
          "data": {
            "text/plain": [
              "(array([ 0,  1,  2,  6, 14, 15, 16, 20, 21, 23]),)"
            ]
          },
          "metadata": {},
          "execution_count": 20
        }
      ],
      "source": [
        "np.where(rand_array > 0.7)"
      ]
    },
    {
      "cell_type": "markdown",
      "metadata": {
        "id": "ItIObr9oD_-l"
      },
      "source": [
        "## Numpy arrays are mutable\n",
        "\n",
        "Yes, Numpy arrays are mutable.  Let's look at some consequences."
      ]
    },
    {
      "cell_type": "code",
      "execution_count": 21,
      "metadata": {
        "id": "EbGYCpKHD_-l",
        "outputId": "70302056-cb1a-4f07-c692-a7617c697acc",
        "colab": {
          "base_uri": "https://localhost:8080/"
        }
      },
      "outputs": [
        {
          "output_type": "execute_result",
          "data": {
            "text/plain": [
              "array([1, 2, 6, 4])"
            ]
          },
          "metadata": {},
          "execution_count": 21
        }
      ],
      "source": [
        "# Make an array\n",
        "my_ar = np.array([1, 2, 3, 4])\n",
        "\n",
        "# Change an element\n",
        "my_ar[2] = 6\n",
        "\n",
        "# See the result\n",
        "my_ar"
      ]
    },
    {
      "cell_type": "markdown",
      "metadata": {
        "id": "1cyGxnOtD_-l"
      },
      "source": [
        "Now, let's try working attaching another variable to the Numpy array."
      ]
    },
    {
      "cell_type": "code",
      "execution_count": 22,
      "metadata": {
        "id": "jMAI2eamD_-r",
        "outputId": "e9377ec5-3bf2-4271-a0fa-49384013d210",
        "colab": {
          "base_uri": "https://localhost:8080/"
        }
      },
      "outputs": [
        {
          "output_type": "execute_result",
          "data": {
            "text/plain": [
              "array([1, 2, 6, 9])"
            ]
          },
          "metadata": {},
          "execution_count": 22
        }
      ],
      "source": [
        "# Attach a new variable\n",
        "my_ar2 = my_ar\n",
        "\n",
        "# Set an entry using the new variable\n",
        "my_ar2[3] = 9\n",
        "\n",
        "# Does the original change? (yes.)\n",
        "my_ar"
      ]
    },
    {
      "cell_type": "markdown",
      "metadata": {
        "id": "8l9OK9rcD_-r"
      },
      "source": [
        "Let's see how messing with Numpy in functions affects things."
      ]
    },
    {
      "cell_type": "code",
      "execution_count": 23,
      "metadata": {
        "id": "APfPOGkZD_-s",
        "outputId": "5030846c-7e8c-4e8c-ba5b-1b99c909209d",
        "colab": {
          "base_uri": "https://localhost:8080/"
        }
      },
      "outputs": [
        {
          "output_type": "execute_result",
          "data": {
            "text/plain": [
              "array([0.1, 0.2, 0.3, 0.4])"
            ]
          },
          "metadata": {},
          "execution_count": 23
        }
      ],
      "source": [
        "# Re-instantiate my_ar\n",
        "my_ar = np.array([1, 2, 3, 4]).astype(float)\n",
        "\n",
        "# Function to normalize x (note that /= works with mutable objects)\n",
        "def normalize(x):\n",
        "    x /= np.sum(x)\n",
        "\n",
        "# Pass it through a function\n",
        "normalize(my_ar)\n",
        "\n",
        "# Is it normalized even though we didn't return anything? (Yes.)\n",
        "my_ar"
      ]
    },
    {
      "cell_type": "markdown",
      "metadata": {
        "id": "sufVdBsJD_-s"
      },
      "source": [
        "So, be careful when writing functions. What you do to your Numpy array inside the function will happen outside of the function as well. Always remember that:\n",
        "\n",
        "<div class=\"alert alert-info\">\n",
        "    \n",
        "**Numpy arrays are mutable.**\n",
        "\n",
        "</div>"
      ]
    },
    {
      "cell_type": "markdown",
      "metadata": {
        "id": "sLntWqyQD_-s"
      },
      "source": [
        "### Slices of Numpy arrays are **views**, not copies\n",
        "\n",
        "A very important distinction between Numpy arrays and lists is that slices of Numpy arrays are **views** into the original Numpy array, NOT copies."
      ]
    },
    {
      "cell_type": "code",
      "execution_count": 24,
      "metadata": {
        "id": "PwpDkJXOD_-s",
        "outputId": "40bf026d-0e8d-44ea-9651-578ddeeb6b1c",
        "colab": {
          "base_uri": "https://localhost:8080/"
        }
      },
      "outputs": [
        {
          "output_type": "stream",
          "name": "stdout",
          "text": [
            "[1, 2, 3, 4]\n",
            "[1 9 3 4]\n"
          ]
        }
      ],
      "source": [
        "# Make list and array\n",
        "my_list = [1, 2, 3, 4]\n",
        "my_ar = np.array(my_list)\n",
        "\n",
        "# Slice out of each\n",
        "my_list_slice = my_list[1:-1]\n",
        "my_ar_slice = my_ar[1:-1]\n",
        "\n",
        "# Mess with the slices\n",
        "my_list_slice[0] = 9\n",
        "my_ar_slice[0] = 9\n",
        "\n",
        "# Look at originals\n",
        "print(my_list)\n",
        "print(my_ar)"
      ]
    },
    {
      "cell_type": "markdown",
      "metadata": {
        "id": "U5TOnBthD_-s"
      },
      "source": [
        "Messing with an element of a slice of a Numpy array messes with that element in the original! This is not the case with lists. Remember this!\n",
        "\n",
        "<div class=\"alert alert-info\">\n",
        "    \n",
        "**Slices of Numpy arrays are <i>views</i>, not copies.**\n",
        "\n",
        "</div>\n",
        "\n",
        "Fortunately, you can make a copy of an array using the `np.copy()` function."
      ]
    },
    {
      "cell_type": "code",
      "execution_count": 25,
      "metadata": {
        "id": "ZNBJ4cUCD_-s",
        "outputId": "ba772c66-8eb4-4068-c01c-abb4d14e8ae0",
        "colab": {
          "base_uri": "https://localhost:8080/"
        }
      },
      "outputs": [
        {
          "output_type": "execute_result",
          "data": {
            "text/plain": [
              "False"
            ]
          },
          "metadata": {},
          "execution_count": 25
        }
      ],
      "source": [
        "# Make a copy\n",
        "rand_array_copy = np.copy(rand_array)\n",
        "\n",
        "# Mess with an entry\n",
        "rand_array_copy[10] = 2000\n",
        "\n",
        "# Check equality\n",
        "np.allclose(rand_array, rand_array_copy)"
      ]
    },
    {
      "cell_type": "markdown",
      "metadata": {
        "id": "vrWBtR0FD_-t"
      },
      "source": [
        "So, messing with an entry in the copy did not affect the original."
      ]
    },
    {
      "cell_type": "markdown",
      "metadata": {
        "id": "9rcB1H1LD_-t"
      },
      "source": [
        "## Mathematical operations with arrays"
      ]
    },
    {
      "cell_type": "markdown",
      "metadata": {
        "id": "8c7QjLA4D_-t"
      },
      "source": [
        "Mathematical operations on arrays are done elementwise to all elements."
      ]
    },
    {
      "cell_type": "code",
      "execution_count": 26,
      "metadata": {
        "id": "zZlzp99cD_-t",
        "outputId": "193310dd-9876-4812-a6a0-2b17a191fd3c",
        "colab": {
          "base_uri": "https://localhost:8080/"
        }
      },
      "outputs": [
        {
          "output_type": "execute_result",
          "data": {
            "text/plain": [
              "array([5.        , 3.        , 2.33333333, 2.        ])"
            ]
          },
          "metadata": {},
          "execution_count": 26
        }
      ],
      "source": [
        "# Divide one array be another\n",
        "np.array([5, 6, 7, 8]) / np.array([1, 2, 3, 4])"
      ]
    },
    {
      "cell_type": "code",
      "execution_count": 27,
      "metadata": {
        "id": "OBQZgq30D_-t",
        "outputId": "f8c59e1f-f594-42e3-e322-803a926a7b8a",
        "colab": {
          "base_uri": "https://localhost:8080/"
        }
      },
      "outputs": [
        {
          "output_type": "execute_result",
          "data": {
            "text/plain": [
              "array([-2.89454476, -3.22502748, -3.02028886, -1.90117055, -0.87234457,\n",
              "       -0.43190937, -3.36772162, -1.05278019, -2.27904696, -2.06421061,\n",
              "       -1.47494371, -0.2411634 , -1.05241968, -0.0471531 , -3.57003416,\n",
              "       -3.37193757, -3.3347268 , -0.62640202, -0.86965191, -1.5715947 ,\n",
              "       -3.38643522, -2.97086315, -0.26888778, -3.94152387])"
            ]
          },
          "metadata": {},
          "execution_count": 27
        }
      ],
      "source": [
        "# Multiply by scalar\n",
        "-4 * rand_array"
      ]
    },
    {
      "cell_type": "code",
      "execution_count": 28,
      "metadata": {
        "id": "ltRZBMjPD_-t",
        "outputId": "2b266ed3-c559-4ecc-f54d-eb295be45642",
        "colab": {
          "base_uri": "https://localhost:8080/"
        }
      },
      "outputs": [
        {
          "output_type": "execute_result",
          "data": {
            "text/plain": [
              "array([5.23649337e-01, 6.50050142e-01, 5.70134051e-01, 2.25903092e-01,\n",
              "       4.75615653e-02, 1.16591066e-02, 7.08846805e-01, 6.92716325e-02,\n",
              "       3.24628441e-01, 2.66310340e-01, 1.35966185e-01, 3.63498667e-03,\n",
              "       6.92241987e-02, 1.38963448e-04, 7.96571494e-01, 7.10622684e-01,\n",
              "       6.95025179e-01, 2.45237178e-02, 4.72684032e-02, 1.54369369e-01,\n",
              "       7.16746467e-01, 5.51626742e-01, 4.51879002e-03, 9.70975652e-01])"
            ]
          },
          "metadata": {},
          "execution_count": 28
        }
      ],
      "source": [
        "# Raise to power\n",
        "rand_array**2"
      ]
    },
    {
      "cell_type": "markdown",
      "metadata": {
        "id": "VD7iuvCAD_-u"
      },
      "source": [
        "## Indexing 2D Numpy arrays\n",
        "\n",
        "Numpy arrays need not be one-dimensional. We'll create a two-dimensional Numpy array by reshaping our `rand_array` array from having shape `(24,)` to having shape `(6, 4)`. That is, it will become an array with 6 rows and 4 columns."
      ]
    },
    {
      "cell_type": "code",
      "execution_count": 29,
      "metadata": {
        "id": "aaf75_SbD_-u",
        "outputId": "3b2f2311-652b-4b28-d30a-3c6518390ab9",
        "colab": {
          "base_uri": "https://localhost:8080/"
        }
      },
      "outputs": [
        {
          "output_type": "execute_result",
          "data": {
            "text/plain": [
              "array([[0.72363619, 0.80625687, 0.75507222, 0.47529264],\n",
              "       [0.21808614, 0.10797734, 0.8419304 , 0.26319505],\n",
              "       [0.56976174, 0.51605265, 0.36873593, 0.06029085],\n",
              "       [0.26310492, 0.01178828, 0.89250854, 0.84298439],\n",
              "       [0.8336817 , 0.1566005 , 0.21741298, 0.39289867],\n",
              "       [0.8466088 , 0.74271579, 0.06722195, 0.98538097]])"
            ]
          },
          "metadata": {},
          "execution_count": 29
        }
      ],
      "source": [
        "# New 2D array using the reshape() method\n",
        "rand_array_2d = rand_array.reshape((6, 4))\n",
        "\n",
        "# Look at it\n",
        "rand_array_2d"
      ]
    },
    {
      "cell_type": "markdown",
      "metadata": {
        "id": "RgxFBLPXD_-u"
      },
      "source": [
        "Notice that it is represented as an array made out of a list of lists. If we had a list of lists, we would index it like this:\n",
        "\n",
        "    list_of_lists[i][j]"
      ]
    },
    {
      "cell_type": "code",
      "execution_count": 30,
      "metadata": {
        "id": "MyDlQ0Q5D_-v",
        "outputId": "8a311be9-522a-4861-f8a6-31964925b5ab",
        "colab": {
          "base_uri": "https://localhost:8080/"
        }
      },
      "outputs": [
        {
          "output_type": "execute_result",
          "data": {
            "text/plain": [
              "2"
            ]
          },
          "metadata": {},
          "execution_count": 30
        }
      ],
      "source": [
        "# Make list of lists\n",
        "list_of_lists = [[1, 2], [3, 4]]\n",
        "\n",
        "# Pull out value in first row, second column\n",
        "list_of_lists[0][1]"
      ]
    },
    {
      "cell_type": "markdown",
      "metadata": {
        "id": "R3DfFLG4D_-v"
      },
      "source": [
        "Though this will work with Numpy arrays, this is *not* how Numpy arrays are indexed. They are indexed much more conveniently."
      ]
    },
    {
      "cell_type": "code",
      "execution_count": 31,
      "metadata": {
        "id": "7GWgIXacD_-v",
        "outputId": "515a7451-ef97-4cf1-de5a-f99750b9da73",
        "colab": {
          "base_uri": "https://localhost:8080/"
        }
      },
      "outputs": [
        {
          "output_type": "execute_result",
          "data": {
            "text/plain": [
              "0.8062568709113288"
            ]
          },
          "metadata": {},
          "execution_count": 31
        }
      ],
      "source": [
        "rand_array_2d[0, 1]"
      ]
    },
    {
      "cell_type": "markdown",
      "metadata": {
        "id": "LqOK0nvZD_-v"
      },
      "source": [
        "We essentially have a tuple in the indexing brackets. Now, say we wanted row with index 2 (remember that indexing starting at 0)."
      ]
    },
    {
      "cell_type": "code",
      "execution_count": 32,
      "metadata": {
        "id": "3SDLb25BD_-v",
        "outputId": "3bd7fc44-27d9-4f66-856f-87be722388f5",
        "colab": {
          "base_uri": "https://localhost:8080/"
        }
      },
      "outputs": [
        {
          "output_type": "execute_result",
          "data": {
            "text/plain": [
              "array([0.56976174, 0.51605265, 0.36873593, 0.06029085])"
            ]
          },
          "metadata": {},
          "execution_count": 32
        }
      ],
      "source": [
        "rand_array_2d[2, :]"
      ]
    },
    {
      "cell_type": "markdown",
      "metadata": {
        "id": "D-_i1TuTD_-w"
      },
      "source": [
        "We can use Boolean indexing as before."
      ]
    },
    {
      "cell_type": "code",
      "execution_count": 33,
      "metadata": {
        "id": "4EMZuBT6D_-w",
        "outputId": "4a6bd027-29ae-49b9-db84-59b3912e9536",
        "colab": {
          "base_uri": "https://localhost:8080/"
        }
      },
      "outputs": [
        {
          "output_type": "execute_result",
          "data": {
            "text/plain": [
              "array([0.72363619, 0.80625687, 0.75507222, 0.8419304 , 0.89250854,\n",
              "       0.84298439, 0.8336817 , 0.8466088 , 0.74271579, 0.98538097])"
            ]
          },
          "metadata": {},
          "execution_count": 33
        }
      ],
      "source": [
        "rand_array_2d[rand_array_2d > 0.7]"
      ]
    },
    {
      "cell_type": "markdown",
      "metadata": {
        "id": "n69t36gjD_-w"
      },
      "source": [
        "Note that this gives a one-dimensional array of the entries greater than 0.7. If we wanted indices where this is the case, we can again use `np.where()`."
      ]
    },
    {
      "cell_type": "code",
      "execution_count": 34,
      "metadata": {
        "id": "wBrLo7nfD_-w",
        "outputId": "1d707502-5869-4659-e72e-4c9d750cd88a",
        "colab": {
          "base_uri": "https://localhost:8080/"
        }
      },
      "outputs": [
        {
          "output_type": "execute_result",
          "data": {
            "text/plain": [
              "(array([0, 0, 0, 1, 3, 3, 4, 5, 5, 5]), array([0, 1, 2, 2, 2, 3, 0, 0, 1, 3]))"
            ]
          },
          "metadata": {},
          "execution_count": 34
        }
      ],
      "source": [
        "np.where(rand_array_2d > 0.7)"
      ]
    },
    {
      "cell_type": "markdown",
      "metadata": {
        "id": "nc8Fv30MD_-w"
      },
      "source": [
        "This tuple of Numpy arrays is how we would pull those values out using fancy indexing."
      ]
    },
    {
      "cell_type": "code",
      "execution_count": 35,
      "metadata": {
        "id": "xVog0Bl0D_-w",
        "outputId": "c14a84fc-a07c-458d-84f7-9d1ad675a803",
        "colab": {
          "base_uri": "https://localhost:8080/"
        }
      },
      "outputs": [
        {
          "output_type": "execute_result",
          "data": {
            "text/plain": [
              "array([0.47529264, 0.8419304 , 0.26319505, 0.06029085, 0.39289867,\n",
              "       0.8466088 ])"
            ]
          },
          "metadata": {},
          "execution_count": 35
        }
      ],
      "source": [
        "rand_array_2d[(np.array([0, 1, 1, 2, 4, 5]), np.array([3, 2, 3, 3, 3, 0]))]"
      ]
    },
    {
      "cell_type": "markdown",
      "metadata": {
        "id": "nEujm818D_-x"
      },
      "source": [
        "Numpy arrays can be of arbitrary integer dimension, and these principles extrapolate to 3D, 4D, etc., arrays."
      ]
    },
    {
      "cell_type": "markdown",
      "metadata": {
        "id": "EzQ0fjcsD_-x"
      },
      "source": [
        "## Concatenating arrays\n",
        "\n",
        "We can tape two arrays together if we like. The `np.concatenate()` function accomplishes this. We simply have to pass it a tuple containing the Numpy arrays we want to concatenate."
      ]
    },
    {
      "cell_type": "code",
      "execution_count": 36,
      "metadata": {
        "id": "CsrlxWAwD_-x",
        "outputId": "11e80b68-d7e0-4103-8e4d-296bb95935be",
        "colab": {
          "base_uri": "https://localhost:8080/"
        }
      },
      "outputs": [
        {
          "output_type": "execute_result",
          "data": {
            "text/plain": [
              "array([0.72363619, 0.80625687, 0.75507222, 0.47529264, 0.21808614,\n",
              "       0.10797734, 0.8419304 , 0.26319505, 0.56976174, 0.51605265,\n",
              "       0.36873593, 0.06029085, 0.26310492, 0.01178828, 0.89250854,\n",
              "       0.84298439, 0.8336817 , 0.1566005 , 0.21741298, 0.39289867,\n",
              "       0.8466088 , 0.74271579, 0.06722195, 0.98538097, 0.76464333,\n",
              "       0.21468332, 0.46706424, 0.43516852, 0.218179  , 0.85635848,\n",
              "       0.11666964, 0.19284475, 0.97663249, 0.51806187])"
            ]
          },
          "metadata": {},
          "execution_count": 36
        }
      ],
      "source": [
        "another_rand_array = np.random.random(10)\n",
        "\n",
        "combined = np.concatenate((rand_array, another_rand_array))\n",
        "\n",
        "# Look at it\n",
        "combined"
      ]
    },
    {
      "cell_type": "markdown",
      "metadata": {
        "id": "AJAoHzcTD_-x"
      },
      "source": [
        "## Numpy has useful mathematical functions\n",
        "\n",
        "So far, we have not done much mathematics with Python. We have done some adding and division, but nothing like computing a logarithm or cosine. The Numpy functions also work elementwise on the arrays when it is intuitive to do so. That is, they apply the function to each entry in the array. Check it out."
      ]
    },
    {
      "cell_type": "code",
      "execution_count": 37,
      "metadata": {
        "id": "ge8vp7MdD_-y",
        "outputId": "0072767b-07e6-4f0f-9a07-5a48827f045b",
        "colab": {
          "base_uri": "https://localhost:8080/"
        }
      },
      "outputs": [
        {
          "output_type": "execute_result",
          "data": {
            "text/plain": [
              "array([2.06191712, 2.23950951, 2.12776518, 1.60848483, 1.2436942 ,\n",
              "       1.1140225 , 2.32084282, 1.30108047, 1.7678458 , 1.67540119,\n",
              "       1.44590573, 1.06214543, 1.30096321, 1.01185803, 2.44124594,\n",
              "       2.32329025, 2.30177762, 1.1695283 , 1.24285727, 1.48126829,\n",
              "       2.33172609, 2.10163537, 1.06953283, 2.67883224])"
            ]
          },
          "metadata": {},
          "execution_count": 37
        }
      ],
      "source": [
        "# Exponential\n",
        "np.exp(rand_array)"
      ]
    },
    {
      "cell_type": "code",
      "execution_count": 38,
      "metadata": {
        "id": "qLuhzojSD_-y",
        "outputId": "cfe77298-c89b-4e48-c9c1-870aacf4978e",
        "colab": {
          "base_uri": "https://localhost:8080/"
        }
      },
      "outputs": [
        {
          "output_type": "execute_result",
          "data": {
            "text/plain": [
              "array([-0.16489218,  0.34615756,  0.03186428, -0.98797431,  0.19917961,\n",
              "        0.77855165,  0.54602806, -0.08281198, -0.90546344, -0.99491776,\n",
              "       -0.67873582,  0.9291022 , -0.08224763,  0.99725823,  0.78046395,\n",
              "        0.55156407,  0.50189441,  0.55373776,  0.20332268, -0.78199416,\n",
              "        0.57041499, -0.04575207,  0.91212083,  0.99578438])"
            ]
          },
          "metadata": {},
          "execution_count": 38
        }
      ],
      "source": [
        "# Cosine\n",
        "np.cos(2*np.pi*rand_array)"
      ]
    },
    {
      "cell_type": "code",
      "execution_count": 39,
      "metadata": {
        "id": "Dg3VFC5lD_-y",
        "outputId": "6eb9796d-fd46-4fdf-d81d-ca0021c38543",
        "colab": {
          "base_uri": "https://localhost:8080/"
        }
      },
      "outputs": [
        {
          "output_type": "execute_result",
          "data": {
            "text/plain": [
              "array([0.85066809, 0.89791808, 0.86894891, 0.68941471, 0.46699694,\n",
              "       0.32859906, 0.91756766, 0.51302539, 0.75482564, 0.71836805,\n",
              "       0.6072363 , 0.24554195, 0.51293754, 0.10857383, 0.9447267 ,\n",
              "       0.91814181, 0.91306172, 0.39572782, 0.46627565, 0.6268163 ,\n",
              "       0.92011347, 0.8618096 , 0.25927195, 0.99266357])"
            ]
          },
          "metadata": {},
          "execution_count": 39
        }
      ],
      "source": [
        "# Square root\n",
        "np.sqrt(rand_array)"
      ]
    },
    {
      "cell_type": "markdown",
      "metadata": {
        "id": "_onrECU-D_-y"
      },
      "source": [
        "We can even do some matrix operations (which are obviously not done elementwise), like dot products."
      ]
    },
    {
      "cell_type": "code",
      "execution_count": 40,
      "metadata": {
        "id": "bCbViKrJD_-y",
        "outputId": "9ab7ebb0-182a-4217-95a5-725c97676c55",
        "colab": {
          "base_uri": "https://localhost:8080/"
        }
      },
      "outputs": [
        {
          "output_type": "execute_result",
          "data": {
            "text/plain": [
              "8.279227344296817"
            ]
          },
          "metadata": {},
          "execution_count": 40
        }
      ],
      "source": [
        "np.dot(rand_array, rand_array)"
      ]
    },
    {
      "cell_type": "markdown",
      "metadata": {
        "id": "Y-Nd5RJ_D_-z"
      },
      "source": [
        "Numpy also has useful attributes, like `np.pi` (which we already snuck into a code cell above)."
      ]
    },
    {
      "cell_type": "code",
      "execution_count": 41,
      "metadata": {
        "id": "9X9Zw-haD_-z",
        "outputId": "72986dd7-7404-4b50-f6cf-aee550b7c976",
        "colab": {
          "base_uri": "https://localhost:8080/"
        }
      },
      "outputs": [
        {
          "output_type": "execute_result",
          "data": {
            "text/plain": [
              "3.141592653589793"
            ]
          },
          "metadata": {},
          "execution_count": 41
        }
      ],
      "source": [
        "np.pi"
      ]
    },
    {
      "cell_type": "markdown",
      "metadata": {
        "id": "CED6pXL_D_-z"
      },
      "source": [
        "## Scipy has even more useful functions (in modules)\n",
        "\n",
        "Scipy actually began life as a library of special functions that operate on Numpy arrays. For example, it provides advanced linear algebra routines, mathematical function optimizations, signal processing, etc.\n",
        "\n",
        "For example, we can create sparse matrices using SciPy. Sparse matrices are used when we want to store a 2D array that contains mostly zeros:\n",
        "   \n",
        "```python\n",
        "from scipy import sparse\n",
        "```"
      ]
    },
    {
      "cell_type": "code",
      "execution_count": 42,
      "metadata": {
        "id": "oiq4ni48D_-z",
        "outputId": "0cfb59d3-54c4-4b42-baff-0c914a8fde0f",
        "colab": {
          "base_uri": "https://localhost:8080/"
        }
      },
      "outputs": [
        {
          "output_type": "stream",
          "name": "stdout",
          "text": [
            "Numpy array:\n",
            " [[1. 0. 0. 0.]\n",
            " [0. 1. 0. 0.]\n",
            " [0. 0. 1. 0.]\n",
            " [0. 0. 0. 1.]]\n"
          ]
        }
      ],
      "source": [
        "# create a 2D NumPy array with a diagonal of ones and zeros everywhere else.\n",
        "eye = np.eye(4)\n",
        "print(\"Numpy array:\\n\", eye)"
      ]
    },
    {
      "cell_type": "markdown",
      "metadata": {
        "id": "NlhALTF2D_-z"
      },
      "source": [
        "There are many Scipy submodules which give plenty or rich functionality for scientific computing. You can check out the [Scipy docs](https://docs.scipy.org/doc/scipy-1.3.0/reference/) to learn about all of the functionality.\n",
        "\n",
        "- `scipy.special`: Special functions.\n",
        "- `scipy.stats`: Functions for statistical analysis.\n",
        "- `scipy.optimize`: Numerical optimization.\n",
        "- `scipy.integrate`: Numerical solutions to differential equations.\n",
        "- `scipy.interpolate`: Smooth interpolation of functions.\n"
      ]
    },
    {
      "cell_type": "markdown",
      "metadata": {
        "id": "h7fWoGkyD_-0"
      },
      "source": [
        "## Numpy and Scipy are highly optimized\n",
        "\n",
        "Importantly, Numpy and Scipy routines are often *fast*."
      ]
    },
    {
      "cell_type": "code",
      "execution_count": 44,
      "metadata": {
        "id": "bGy-vF6tD_-0",
        "outputId": "682916a2-061e-4d4a-9da3-1827df151412",
        "colab": {
          "base_uri": "https://localhost:8080/"
        }
      },
      "outputs": [
        {
          "output_type": "stream",
          "name": "stdout",
          "text": [
            "2.07 ms ± 1.37 ms per loop (mean ± std. dev. of 7 runs, 1000 loops each)\n"
          ]
        }
      ],
      "source": [
        "# Make array of 10,000 random numbers\n",
        "x = np.random.random(10000)\n",
        "\n",
        "# Sum with Python for loop\n",
        "def python_sum(x):\n",
        "    x_sum = 0.0\n",
        "    for y in x:\n",
        "        x_sum += y\n",
        "    return x_sum\n",
        "\n",
        "# Test speed\n",
        "%timeit python_sum(x)"
      ]
    },
    {
      "cell_type": "markdown",
      "metadata": {
        "id": "3vyfRXYyD_-1"
      },
      "source": [
        "Now we'll do the same test with the Numpy implementation."
      ]
    },
    {
      "cell_type": "code",
      "execution_count": 45,
      "metadata": {
        "id": "S6twZrEJD_-1",
        "outputId": "bbe0512b-46ee-441c-bd1a-7e84c3455117",
        "colab": {
          "base_uri": "https://localhost:8080/"
        }
      },
      "outputs": [
        {
          "output_type": "stream",
          "name": "stdout",
          "text": [
            "10.5 µs ± 2.82 µs per loop (mean ± std. dev. of 7 runs, 100000 loops each)\n"
          ]
        }
      ],
      "source": [
        "%timeit np.sum(x)"
      ]
    },
    {
      "cell_type": "markdown",
      "metadata": {
        "id": "VgYNmPZrD_-1"
      },
      "source": [
        "Wow!  We went from a millisecond to *micro*seconds!"
      ]
    },
    {
      "cell_type": "markdown",
      "metadata": {
        "id": "GmWyqZzfD_-1"
      },
      "source": [
        "## Word of advice: use Numpy and Scipy\n",
        "\n",
        "If you are writing code and you think to yourself, \"This seems like a pretty common things to do,\" there is a good chance the someone really smart has written code to do it. If it's something numerical, there is a good chance it is in Numpy or Scipy. **Use these packages.** Do not reinvent the wheel. It is very rare you can beat them for performance, error checking, etc.\n",
        "\n",
        "Furthermore, Numpy and Scipy are very well tested (and we learned the importance of that in the test-driven development lessons). In general, you do not need to write unit tests for well-established packages. Obviously, if you use Numpy or Scipy within your own functions, you still need to test what you wrote."
      ]
    }
  ],
  "metadata": {
    "anaconda-cloud": {},
    "kernelspec": {
      "display_name": "Python 3 (ipykernel)",
      "language": "python",
      "name": "python3"
    },
    "language_info": {
      "codemirror_mode": {
        "name": "ipython",
        "version": 3
      },
      "file_extension": ".py",
      "mimetype": "text/x-python",
      "name": "python",
      "nbconvert_exporter": "python",
      "pygments_lexer": "ipython3",
      "version": "3.11.5"
    },
    "colab": {
      "provenance": []
    }
  },
  "nbformat": 4,
  "nbformat_minor": 0
}
