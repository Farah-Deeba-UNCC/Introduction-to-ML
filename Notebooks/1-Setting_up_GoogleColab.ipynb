{
  "cells": [
    {
      "cell_type": "markdown",
      "metadata": {
        "id": "view-in-github",
        "colab_type": "text"
      },
      "source": [
        "<a href=\"https://colab.research.google.com/github/Farah-Deeba-UNCC/ECGR-4105-5105/blob/main/Notebooks/1-Setting_up_GoogleColab.ipynb\" target=\"_parent\"><img src=\"https://colab.research.google.com/assets/colab-badge.svg\" alt=\"Open In Colab\"/></a>"
      ]
    },
    {
      "cell_type": "markdown",
      "source": [
        "# ECGR 4105/5105 - Setting up Google Colab"
      ],
      "metadata": {
        "id": "NY4S9AKRIKFE"
      }
    },
    {
      "cell_type": "markdown",
      "source": [
        "In this lesson, you will set up Google Colab, a cloud service for running Jupyter notebooks. Google Colab is a nice, free resource to run Jupyter Notebooks on Google's computers without any local installations necessary."
      ],
      "metadata": {
        "id": "gjLh9YJ2zjwL"
      }
    },
    {
      "cell_type": "markdown",
      "source": [
        "## Setting up Google Colab\n",
        "\n",
        "In order to use Google Colab, you must have a Google account. UNCC students and employees have an account through UNCC G Suite. Many of you may have a personal Google account, usually set up for things like GMail, YouTube, etc. For your work in this class, **use your UNCC account.**\n",
        "\n",
        "You can launch a Colab notebook by navigating to [https://colab.research.google.com/](https://colab.research.google.com/)."
      ],
      "metadata": {
        "id": "BM68330kzy1o"
      }
    },
    {
      "cell_type": "markdown",
      "source": [
        "### Watchouts when using Colab\n",
        "\n",
        "If you do run a notebook in Colab, you are doing your computing on one of Google's computers via a virtual machine. You get two CPU cores and limited (about 12 GB, but it varies) RAM. You can also get GPUs and TPUs (Google's tensor processing units). The computing resources should be enough for all of our calculations this term. However, there are some limitations you should be aware of.\n",
        "\n",
        "- If your notebook is idle for too long, you will get disconnected from your notebook. \"Idle\" means that cells are not being edited or executed. The idle timeout varies depending on the load on Google's computers; I find that I almost always get disconnected if idle for an hour.\n",
        "- Your virtual machine will disconnect if it is being used for too long. It typically will only available for 12 hours before disconnecting, though times can vary, again based on load.\n",
        "\n",
        "These limitations are in place so that Google can offer Colab for free. If you want more cores, longer timeouts, etc., you might want to check out [Colab Pro](https://colab.research.google.com/signup). However, the free tier should work well for you in the course. You can of course always run on your own machine.\n",
        "\n",
        "There are additional software-specific watchouts when using Colab.\n",
        "\n",
        "- Colab instances have specific software installed, so you will need to install anything else you need in your notebook. This is not a major burden, and is discussed in the next section.\n",
        "\n",
        "\n",
        "I recommend reading the [Colab FAQs](https://research.google.com/colaboratory/faq.html) for more information about Colab."
      ],
      "metadata": {
        "id": "chEDMqsZz63o"
      }
    },
    {
      "cell_type": "markdown",
      "source": [
        "### Software in Colab\n",
        "\n",
        "When you launch a Google Colab notebook, much of the software we will use in class is already installed. It is not always the latest version of the software, however. In fact, as of mid-September 2023, Colab is running Python 3.10, whereas you will run Python 3.11 on your machine through your Anaconda installation. Nonetheless, the analyses we do for this class will work just fine in Colab.\n",
        "\n",
        "### Check the version of Python in Colab\n",
        "To check the Python version using the sys module, you can use the following code. The sys module provides access to information about the Python runtime environment."
      ],
      "metadata": {
        "id": "0bmE_k5A0LeI"
      }
    },
    {
      "cell_type": "code",
      "source": [
        "# Import the sys module\n",
        "import sys\n",
        "# Print the Python version\n",
        "print(sys.version)"
      ],
      "metadata": {
        "colab": {
          "base_uri": "https://localhost:8080/"
        },
        "id": "hMHfaHnT1TEW",
        "outputId": "1987edef-8175-42fd-e640-86c59c71c8c7"
      },
      "execution_count": null,
      "outputs": [
        {
          "output_type": "stream",
          "name": "stdout",
          "text": [
            "3.10.12 (main, Nov 20 2023, 15:14:05) [GCC 11.4.0]\n"
          ]
        }
      ]
    },
    {
      "cell_type": "markdown",
      "source": [
        "### Collaborating with Colab\n",
        "\n",
        "If you want to collaborate with another student or with the course staff on a notebook, you can click \"Share\" on the top right corner of the Colab window and choose with whom and how (the defaults are fine) you want to share.\n",
        "\n",
        "When we talk about Git in a future lesson, we will discuss Colab's GitHub support, which will be necessary for version control and submitting and sharing your homework."
      ],
      "metadata": {
        "id": "UKpmWad-0LsW"
      }
    },
    {
      "cell_type": "markdown",
      "metadata": {
        "id": "wKJ4bd5rt1wy"
      },
      "source": [
        "\n",
        "[Google Colaboratory](http://colab.research.google.com) is designed to integrate cleanly with GitHub, allowing both loading notebooks from github and saving notebooks to github."
      ]
    },
    {
      "cell_type": "markdown",
      "metadata": {
        "id": "K-NVg7RjyeTk"
      },
      "source": [
        "## Loading Public Notebooks Directly from GitHub\n",
        "\n",
        "Colab can load public github notebooks directly, with no required authorization step.\n",
        "\n",
        "For example, consider the notebook at this address: https://github.com/Farah-Deeba-UNCC/ECGR-4105-5105/blob/05b16da7525a30af7439dc50cfb4e13e21e9b279/Notebooks/1-Setting_up_GoogleColab.ipynb.\n",
        "\n",
        "\n",
        "The direct colab link to this notebook is: https://colab.research.google.com/github/Farah-Deeba-UNCC/ECGR-4105-5105/blob/main/Notebooks/1-Setting_up_GoogleColab.ipynb#scrollTo=K-NVg7RjyeTk\n",
        "\n",
        "\n",
        "To generate such links in one click, you can use the [Open in Colab](https://chrome.google.com/webstore/detail/open-in-colab/iogfkhleblhcpcekbiedikdehleodpjo) Chrome extension."
      ]
    },
    {
      "cell_type": "markdown",
      "metadata": {
        "id": "WzIRIt9d2huC"
      },
      "source": [
        "## Browsing GitHub Repositories from Colab\n",
        "\n",
        "Colab also supports special URLs that link directly to a GitHub browser for any user/organization, repository, or branch. For example:\n",
        "\n",
        "- http://colab.research.google.com/github will give you a general github browser, where you can search for any github organization or username.\n"
      ]
    },
    {
      "cell_type": "markdown",
      "metadata": {
        "id": "Rmai0dD30XzL"
      },
      "source": [
        "## Loading Private Notebooks\n",
        "\n",
        "Loading a notebook from a private GitHub repository is possible, but requires an additional step to allow Colab to access your files.\n",
        "Do the following:\n",
        "\n",
        "1. Navigate to http://colab.research.google.com/github.\n",
        "2. Click the \"Include Private Repos\" checkbox.\n",
        "3. In the popup window, sign-in to your Github account and authorize Colab to read the private files.\n",
        "4. Your private repositories and notebooks will now be available via the github navigation pane."
      ]
    },
    {
      "cell_type": "markdown",
      "metadata": {
        "id": "8J3NBxtZpPcK"
      },
      "source": [
        "## Saving Notebooks To GitHub or Drive\n",
        "\n",
        "Any time you open a GitHub hosted notebook in Colab, it opens a new editable view of the notebook. You can run and modify the notebook without worrying about overwriting the source.\n",
        "\n",
        "If you would like to save your changes from within Colab, you can use the File menu to save the modified notebook either to Google Drive or back to GitHub. Choose **File→Save a copy in Drive** or **File→Save a copy to GitHub** and follow the resulting prompts. To save a Colab notebook to GitHub requires giving Colab permission to push the commit to your repository."
      ]
    },
    {
      "cell_type": "markdown",
      "source": [
        "# Load Github data into Colab\n",
        "You can also clone a Github repository into your Colab environment in the same way as you would in your local machine, using git clone."
      ],
      "metadata": {
        "id": "YbA0LkYuv2DS"
      }
    },
    {
      "cell_type": "code",
      "source": [
        "!git clone https://github.com/Farah-Deeba/ECGR-4105-5105.git"
      ],
      "metadata": {
        "colab": {
          "base_uri": "https://localhost:8080/"
        },
        "id": "aRY-Ha2AwMJ-",
        "outputId": "84c980b7-d4e0-4d4a-e86a-2a2feecbdfb6"
      },
      "execution_count": null,
      "outputs": [
        {
          "output_type": "stream",
          "name": "stdout",
          "text": [
            "fatal: destination path 'ECGR-4105-5105' already exists and is not an empty directory.\n"
          ]
        }
      ]
    },
    {
      "cell_type": "markdown",
      "source": [
        "## Alternative: Loading Notebooks and Data from Google Drive\n",
        "\n",
        "You can save the notebook and the data in a Google Drive folder too! To access the notebook and data from there, run the following cell to mount your Google Drive. Follow the link, sign in to your Google account (the same account you used to store this notebook!) and copy the authorization code into the text box that appears below."
      ],
      "metadata": {
        "id": "jJ-LplO2dAJy"
      }
    },
    {
      "cell_type": "markdown",
      "source": [
        "You can use command line instructions like ls and cd to find the folder that this notebook is stored. Move to this folder by changing the code below to access your folder:"
      ],
      "metadata": {
        "id": "u0qLj0UJeM0S"
      }
    },
    {
      "cell_type": "code",
      "source": [
        "from google.colab import drive\n",
        "drive.mount('/content/GoogleDrive')"
      ],
      "metadata": {
        "colab": {
          "base_uri": "https://localhost:8080/"
        },
        "id": "DXOhSoSbeIGS",
        "outputId": "221dda9b-28df-40d1-9051-7f84533c46ba"
      },
      "execution_count": null,
      "outputs": [
        {
          "output_type": "stream",
          "name": "stdout",
          "text": [
            "Mounted at /content/GoogleDrive\n"
          ]
        }
      ]
    },
    {
      "cell_type": "code",
      "source": [
        "cd /content/GoogleDrive/MyDrive/ECGR4105_5105/"
      ],
      "metadata": {
        "id": "rxrm3Y-PkW9y",
        "outputId": "37e310a2-99c6-44ea-b0b9-7b9d4a916c38",
        "colab": {
          "base_uri": "https://localhost:8080/"
        }
      },
      "execution_count": null,
      "outputs": [
        {
          "output_type": "stream",
          "name": "stdout",
          "text": [
            "/content/GoogleDrive/MyDrive/ECGR4105_5105\n"
          ]
        }
      ]
    }
  ],
  "metadata": {
    "colab": {
      "name": "Setting_up_GoogleColab",
      "provenance": [],
      "include_colab_link": true
    },
    "kernelspec": {
      "display_name": "Python 3",
      "name": "python3"
    }
  },
  "nbformat": 4,
  "nbformat_minor": 0
}