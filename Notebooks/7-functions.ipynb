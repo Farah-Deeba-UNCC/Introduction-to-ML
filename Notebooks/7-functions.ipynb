{
  "cells": [
    {
      "cell_type": "markdown",
      "metadata": {
        "id": "view-in-github",
        "colab_type": "text"
      },
      "source": [
        "<a href=\"https://colab.research.google.com/github/Farah-Deeba-UNCC/Introduction-to-ML/blob/main/Notebooks/7-functions.ipynb\" target=\"_parent\"><img src=\"https://colab.research.google.com/assets/colab-badge.svg\" alt=\"Open In Colab\"/></a>"
      ]
    },
    {
      "cell_type": "markdown",
      "metadata": {
        "id": "YerGmkeoWmFe"
      },
      "source": [
        "# Introduction to functions\n",
        "\n",
        "<hr>"
      ]
    },
    {
      "cell_type": "markdown",
      "metadata": {
        "id": "wnNwlQj1WmFk"
      },
      "source": [
        "A **function** is a key element in writing programs. You can think of a function in a computing language much the same way you think of a mathematical function. The function takes in **arguments**, performs some operation based on the identities of the arguments, and then **returns** a result. For example, the mathematical function\n",
        "\n",
        "\\begin{align}\n",
        "f(x, y) = \\frac{x}{y}\n",
        "\\end{align}\n",
        "\n",
        "takes arguments $x$ and $y$ and then returns the ratio between the two, $x/y$. In this lesson, we will learn how to construct functions in Python."
      ]
    },
    {
      "cell_type": "markdown",
      "metadata": {
        "id": "OrqFSY3SWmFl"
      },
      "source": [
        "## Basic function syntax\n",
        "\n",
        "For our first example, we will translate the above function into Python. A function is **defined** using the `def` keyword. This is best seen by example."
      ]
    },
    {
      "cell_type": "code",
      "execution_count": null,
      "metadata": {
        "id": "vqppjaREWmFm"
      },
      "outputs": [],
      "source": [
        "def ratio(x, y):\n",
        "    \"\"\"The ratio of `x` to `y`.\"\"\"\n",
        "    return x / y"
      ]
    },
    {
      "cell_type": "markdown",
      "metadata": {
        "id": "jvI9ApuwWmFn"
      },
      "source": [
        "Following the `def` keyword is a **function signature** which indicates the function's name and its arguments. Just like in mathematics, the arguments are separated by commas and enclosed in parentheses. The indentation following the `def` line specifies what is part of the function. As soon as the indentation goes to the left again, aligned with `def`, the contents of the functions are complete.\n",
        "\n",
        "Immediately following the function definition is the **doc string** (short for documentation string), a brief description of the function. The first string after the function definition is always defined as the doc string. Usually, it is in triple quotes, as doc strings often span multiple lines.\n",
        "\n",
        "Doc strings are more than just comments for your code, the doc string is what is returned by the native python function `help()` when someone is looking to learn more about your function. For example:"
      ]
    },
    {
      "cell_type": "code",
      "execution_count": null,
      "metadata": {
        "id": "67zC7pmJWmFp"
      },
      "outputs": [],
      "source": [
        "help(ratio)"
      ]
    },
    {
      "cell_type": "markdown",
      "metadata": {
        "id": "FDSe0yrJWmFs"
      },
      "source": [
        "They are also printed out when you use the `?` in a Jupyter notebook or JupyterLab console."
      ]
    },
    {
      "cell_type": "code",
      "execution_count": null,
      "metadata": {
        "id": "ejbidt49WmFt"
      },
      "outputs": [],
      "source": [
        "ratio?"
      ]
    },
    {
      "cell_type": "markdown",
      "metadata": {
        "id": "TZqTYOR3WmFu"
      },
      "source": [
        "You are free to type whatever you like in doc strings, or even omit them, but you should always have a doc string with some information about what your function is doing. True, this example of a function is kind of silly, since it is easier to type `x / y` than `ratio(x, y)`, but it is still good form to have a doc string. This is worth saying explicitly.\n",
        "\n",
        "<div class=\"alert alert-info\">\n",
        "\n",
        "All functions should have doc strings.\n",
        "\n",
        "</div>\n",
        "\n",
        "In the next line of the function, we see a `return` keyword. Whatever is after the `return` statement is, you guessed it, returned by the function. Any code after the `return` is *not* executed because the function has already returned!"
      ]
    },
    {
      "cell_type": "markdown",
      "metadata": {
        "id": "rJKx5JrfWmFv"
      },
      "source": [
        "### Calling a function\n",
        "\n",
        "Now that we have defined our function, we can **call** it with the arguments in parentheses."
      ]
    },
    {
      "cell_type": "code",
      "execution_count": null,
      "metadata": {
        "id": "BSooKl4kWmFw"
      },
      "outputs": [],
      "source": [
        "ratio(5, 4)"
      ]
    },
    {
      "cell_type": "code",
      "execution_count": null,
      "metadata": {
        "id": "t6HOhEPvWmFw"
      },
      "outputs": [],
      "source": [
        "ratio(4, 2)"
      ]
    },
    {
      "cell_type": "code",
      "execution_count": null,
      "metadata": {
        "id": "z-w8xRSbWmFx"
      },
      "outputs": [],
      "source": [
        "ratio(90.0, 8.4)"
      ]
    },
    {
      "cell_type": "markdown",
      "metadata": {
        "id": "BtG3Ajs2WmFy"
      },
      "source": [
        "In each case, the function returns a `float` with the ratio of its arguments."
      ]
    },
    {
      "cell_type": "markdown",
      "metadata": {
        "id": "bzxMIQDXWmFy"
      },
      "source": [
        "### Functions need not have arguments\n",
        "\n",
        "A function does not need arguments. As a silly example, let's consider a function that just returns 42 every time. Of course, it does not matter what its arguments are, so we can define a function without arguments."
      ]
    },
    {
      "cell_type": "code",
      "execution_count": null,
      "metadata": {
        "id": "1p5NJMPtWmFz"
      },
      "outputs": [],
      "source": [
        "def answer_to_the_ultimate_question_of_life_the_universe_and_everything():\n",
        "    \"\"\"Simpler program than Deep Thought's, I bet.\"\"\"\n",
        "    return 42"
      ]
    },
    {
      "cell_type": "markdown",
      "metadata": {
        "id": "gZF5bvqxWmFz"
      },
      "source": [
        "We still needed the open and closed parentheses at the end of the function name. Similarly, even though it has no arguments, we still have to call it with parentheses."
      ]
    },
    {
      "cell_type": "code",
      "execution_count": null,
      "metadata": {
        "id": "-3mqNYXwWmF0"
      },
      "outputs": [],
      "source": [
        "answer_to_the_ultimate_question_of_life_the_universe_and_everything()"
      ]
    },
    {
      "cell_type": "markdown",
      "metadata": {
        "id": "JWXYoQIGWmF1"
      },
      "source": [
        "### Functions need not return anything\n",
        "\n",
        "Just like they do not necessarily need arguments, functions also do not need to return anything. If a function does not have a `return` statement (or it is never encountered in the execution of the function), the function runs to completion and returns `None` by default. `None` is a special Python keyword which basically means \"nothing.\" For example, a function could simply print something to the screen."
      ]
    },
    {
      "cell_type": "code",
      "execution_count": null,
      "metadata": {
        "id": "w5G7NTtDWmF1"
      },
      "outputs": [],
      "source": [
        "def think_too_much():\n",
        "    \"\"\"Express Caesar's skepticism about Cassius\"\"\"\n",
        "    print(\"\"\"Yond Cassius has a lean and hungry look,\n",
        "He thinks too much; such men are dangerous.\"\"\")"
      ]
    },
    {
      "cell_type": "markdown",
      "metadata": {
        "id": "TAegcK73WmF2"
      },
      "source": [
        "We call this function as all others, but we can show that the result it returns is `None`."
      ]
    },
    {
      "cell_type": "code",
      "execution_count": null,
      "metadata": {
        "id": "T-RapbaJWmF2"
      },
      "outputs": [],
      "source": [
        "return_val = think_too_much()\n",
        "\n",
        "# Print a blank line\n",
        "print()\n",
        "\n",
        "# Print the return value\n",
        "print(return_val)"
      ]
    },
    {
      "cell_type": "markdown",
      "metadata": {
        "id": "wv7eAsilWmF3"
      },
      "source": [
        "## Built-in functions in Python\n",
        "\n",
        "The Python programming language has several built-in functions. We have already encountered `print()`, `id()`, `len()`, `range()`, in addition to type conversions such as `list()`. The complete set of **built-in functions** can be found [here](https://docs.python.org/3/library/functions.html). A word of warning about these functions and naming your own.\n",
        "\n",
        "<div class=\"alert alert-warning\">\n",
        "    \n",
        "Never define a function or variable with the same name as a built-in function.\n",
        "\n",
        "</div>\n",
        "\n",
        "Additionally, Python has **keywords** (such as `def`, `for`, `in`, `if`, `True`, `None`, etc.), many of which we have already encountered.  A complete list of them is [here](https://docs.python.org/3/reference/lexical_analysis.html#keywords).  The interpreter will throw an error if you try to define a function or variable with the same name as a keyword."
      ]
    },
    {
      "cell_type": "markdown",
      "metadata": {
        "id": "XnB7gdsoWmGG"
      },
      "source": [
        "Let's design a function that takes three arguments, `a`, `b`, and `c`, taken to be the sides of a triangle, and determines whether or not the triangle is a right triangle. I.e., it checks to see if $a^2 + b^2 = c^2$."
      ]
    },
    {
      "cell_type": "code",
      "execution_count": null,
      "metadata": {
        "id": "3jCDKY0IWmGH"
      },
      "outputs": [],
      "source": [
        "def is_almost_right(a, b, c):\n",
        "    \"\"\"\n",
        "    Checks to see if a triangle with side lengths\n",
        "    `a`, `b`, and `c` is right.\n",
        "    \"\"\"\n",
        "\n",
        "    # Use sorted(), which gives a sorted list\n",
        "    a, b, c = sorted([a, b, c])\n",
        "\n",
        "    # Check to see if it is almost a right triangle\n",
        "    if abs(a**2 + b**2 - c**2) < 1e-12:\n",
        "        return True\n",
        "    else:\n",
        "        return False"
      ]
    },
    {
      "cell_type": "markdown",
      "metadata": {
        "id": "vskIUS1_WmGH"
      },
      "source": [
        "Remember our warning from before: never use equality checks with `float`s. We therefore just check to see if the Pythagorean theorem *almost* holds. The function works as expected."
      ]
    },
    {
      "cell_type": "code",
      "source": [
        "is_almost_right(13, 5, 12)"
      ],
      "metadata": {
        "id": "LtnkgT3CYjAN"
      },
      "execution_count": null,
      "outputs": []
    },
    {
      "cell_type": "code",
      "source": [
        "is_almost_right(1, 1, 2)"
      ],
      "metadata": {
        "id": "Uww5SfNzYitu"
      },
      "execution_count": null,
      "outputs": []
    }
  ],
  "metadata": {
    "kernelspec": {
      "display_name": "Python 3 (ipykernel)",
      "language": "python",
      "name": "python3"
    },
    "language_info": {
      "codemirror_mode": {
        "name": "ipython",
        "version": 3
      },
      "file_extension": ".py",
      "mimetype": "text/x-python",
      "name": "python",
      "nbconvert_exporter": "python",
      "pygments_lexer": "ipython3",
      "version": "3.9.12"
    },
    "colab": {
      "provenance": [],
      "include_colab_link": true
    }
  },
  "nbformat": 4,
  "nbformat_minor": 0
}